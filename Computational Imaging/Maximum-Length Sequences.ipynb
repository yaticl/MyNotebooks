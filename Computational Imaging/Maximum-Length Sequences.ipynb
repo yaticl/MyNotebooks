{
 "cells": [
  {
   "cell_type": "markdown",
   "metadata": {
    "collapsed": true
   },
   "source": [
    " #  Maximum-Length Sequence (MLS)\n",
    " ## 簡介\n",
    " Maximum-Length Sequence (MLS)是一種二值序列，長度$P=2^N-1$，其中$N$代表整數。MLS可以利用以下的關係式遞迴產生：\n",
    " \n",
    " $$n(k+3)=n(k)\\oplus n(k+2)$$\n",
    " \n",
    " 其中$\\oplus$代表XOR運算。若將將產生出來的$0,1$邏輯值由下式轉換成$1,-1$，則為MLS訊號：\n",
    " \n",
    " $$0\\rightarrow 1$$\n",
    " $$1\\rightarrow -1$$\n",
    " \n",
    " ## 性質\n",
    " 在MLS當中，$0$與$1$的數量大約相同，有$2^{N-1}$個$1$和$2^{N-1}-1$個$0$。另一個的性質是MLS訊號的自相關為delta function\n",
    " \n",
    " ## 範例\n",
    " 在Scipy的函示庫中的signal模組有實作MLS，其範例如下："
   ]
  },
  {
   "cell_type": "code",
   "execution_count": 28,
   "metadata": {},
   "outputs": [
    {
     "name": "stdout",
     "output_type": "stream",
     "text": [
      "[1 1 1 1 1 1 0 1 0 1 0 1 1 0 0 1 1 0 1 1 1 0 1 1 0 1 0 0 1 0 0 1 1 1 0 0 0\n",
      " 1 0 1 1 1 1 0 0 1 0 1 0 0 0 1 1 0 0 0 0 1 0 0 0 0 0]\n"
     ]
    }
   ],
   "source": [
    "import scipy as sp\n",
    "from scipy.signal import max_len_seq\n",
    "\n",
    "N = 6 # nbits\n",
    "seq = max_len_seq(N)[0]\n",
    "print(seq)"
   ]
  },
  {
   "cell_type": "markdown",
   "metadata": {},
   "source": [
    "將序列轉換成訊號，驗證自相關性質："
   ]
  },
  {
   "cell_type": "code",
   "execution_count": 3,
   "metadata": {},
   "outputs": [
    {
     "data": {
      "image/png": "[encoded data removed]",
      "text/plain": [
       "<matplotlib.figure.Figure at 0x7f6b1017f940>"
      ]
     },
     "metadata": {},
     "output_type": "display_data"
    }
   ],
   "source": [
    "import matplotlib.pyplot as plt\n",
    "from numpy.fft import fft, ifft, fftshift, fftfreq\n",
    "\n",
    "spec = fft(seq)\n",
    "acorrcirc = ifft(spec * sp.conj(spec)).real\n",
    "\n",
    "P = len(seq)\n",
    "plt.figure()\n",
    "plt.plot(sp.arange(-P/2+1, P/2+1), fftshift(acorrcirc), '.-')\n",
    "plt.show()"
   ]
  },
  {
   "cell_type": "markdown",
   "metadata": {},
   "source": [
    "## 參考\n",
    "[MLS Theory](http://www.commsp.ee.ic.ac.uk/~mrt102/projects/mls/MLS%20Theory.pdf)\n",
    "\n",
    "[Scipy](https://docs.scipy.org/doc/scipy/reference/generated/scipy.signal.max_len_seq.html)"
   ]
  }
 ],
 "metadata": {
  "kernelspec": {
   "display_name": "Python 3.6",
   "language": "python",
   "name": "python36"
  },
  "language_info": {
   "codemirror_mode": {
    "name": "ipython",
    "version": 3
   },
   "file_extension": ".py",
   "mimetype": "text/x-python",
   "name": "python",
   "nbconvert_exporter": "python",
   "pygments_lexer": "ipython3",
   "version": "3.6.3"
  }
 },
 "nbformat": 4,
 "nbformat_minor": 2
}
