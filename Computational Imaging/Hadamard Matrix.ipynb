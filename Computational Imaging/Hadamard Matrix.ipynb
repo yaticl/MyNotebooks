{
  "cells": [
    {
      "metadata": {},
      "cell_type": "markdown",
      "source": "# Hadamard Matrix\n## 簡介\nHadamard matrix 是一種只包含$(-1,+1)$的矩陣，其特性是取任兩行或是列放在一起比較，則會有一半是同號，另一半則是不同號。\n當要畫出該矩陣時，定義$+1$代表黑色，而$-1$代表白色。"
    },
    {
      "metadata": {},
      "cell_type": "markdown",
      "source": "## 特性\n${n\\times n}$的Hadamard matrix $H_n$會有$n\\frac{n(n-1)}{2}$個$(-1)$方塊以及$\\frac{n(n+1)}{2}$個$(+1)$的方塊。\n令$H_n$為$n$階的Hadamard matrix，則其定義為："
    },
    {
      "metadata": {},
      "cell_type": "markdown",
      "source": "$$H_n{H_n}^T=nI_n$$"
    },
    {
      "metadata": {},
      "cell_type": "markdown",
      "source": "其中$I_n$為$n \\times n$的單位矩陣"
    },
    {
      "metadata": {},
      "cell_type": "markdown",
      "source": "## Sylvester's construction\n假設$H_n$為$n$階的Hadamard matrix，則可以藉由分區矩陣："
    },
    {
      "metadata": {},
      "cell_type": "markdown",
      "source": "<p>$$\\begin{bmatrix}\nH & H \\\\\nH & -H\n\\end{bmatrix}$$</p>"
    },
    {
      "metadata": {},
      "cell_type": "markdown",
      "source": "來形成$2n$階的的Hadamard matrix，這個方法被稱為Sylvester's construction，對於$2\\leqslant k\\in N$，其通式為："
    },
    {
      "metadata": {},
      "cell_type": "markdown",
      "source": "<p>$$H_{2^k}=\\begin{bmatrix}\nH_{2^{k-1}} & H_{2^{k-1}} \\\\\nH_{2^{k-1}} & -H_{2^{k-1}}\n\\end{bmatrix}=H_2\\otimes H_{2^{k-1}}$$</p>"
    },
    {
      "metadata": {},
      "cell_type": "markdown",
      "source": "其中$\\otimes$為Kronecker product。"
    },
    {
      "metadata": {},
      "cell_type": "markdown",
      "source": "## 範例\n在Scipy的函式庫有用Sylvester’s construction實作，輸入必須為$2$的次方整數，回傳$n$階的Hadamard matrix，以下為文件中的範例："
    },
    {
      "metadata": {
        "trusted": false
      },
      "cell_type": "code",
      "source": "import scipy as sp\nfrom scipy.linalg import hadamard\nhadamard(4)",
      "execution_count": 1,
      "outputs": [
        {
          "data": {
            "text/plain": "array([[ 1,  1,  1,  1],\n       [ 1, -1,  1, -1],\n       [ 1,  1, -1, -1],\n       [ 1, -1, -1,  1]])"
          },
          "execution_count": 1,
          "metadata": {},
          "output_type": "execute_result"
        }
      ]
    },
    {
      "metadata": {},
      "cell_type": "markdown",
      "source": "若根據定義將其圖形畫出："
    },
    {
      "metadata": {
        "trusted": false
      },
      "cell_type": "code",
      "source": "import matplotlib.pyplot as plt\nH = hadamard(4)\nH = -H\n\nplt.figure\nplt.imshow(H, 'gray', origin='lower')\nplt.show()",
      "execution_count": 2,
      "outputs": [
        {
          "data": {
            "image/png": "[encoded data removed]",
            "text/plain": "<matplotlib.figure.Figure at 0x7f0413bea8d0>"
          },
          "metadata": {},
          "output_type": "display_data"
        }
      ]
    },
    {
      "metadata": {},
      "cell_type": "markdown",
      "source": "## 參考\n[Hadamard Matrix](http://mathworld.wolfram.com/HadamardMatrix.html)\n\n[維基百科](https://en.wikipedia.org/wiki/Hadamard_matrix)"
    }
  ],
  "metadata": {
    "kernelspec": {
      "name": "python36",
      "display_name": "Python 3.6",
      "language": "python"
    },
    "language_info": {
      "mimetype": "text/x-python",
      "nbconvert_exporter": "python",
      "name": "python",
      "pygments_lexer": "ipython3",
      "version": "3.6.6",
      "file_extension": ".py",
      "codemirror_mode": {
        "version": 3,
        "name": "ipython"
      }
    }
  },
  "nbformat": 4,
  "nbformat_minor": 2
}