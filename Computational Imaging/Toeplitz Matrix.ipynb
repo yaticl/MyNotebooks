{
 "cells": [
  {
   "cell_type": "markdown",
   "metadata": {
    "collapsed": true
   },
   "source": [
    "# Toeplitz Matrix\n",
    "## 簡介\n",
    "Toeplitz matrix又被稱為常對角矩陣，是一個對角線都是常數的矩陣。\n",
    "對任一$n \\times n$的矩陣$\\mathbf{A}$，可以表示成：\n",
    "\n",
    "<p>$$\\mathbf{A}=\\begin{bmatrix}\n",
    "a_0 & a_{-1} & a_{-2} & \\cdots & a_{-(n-1)}\\\\ \n",
    "a_1 & a_0 & a_{-1} & \\ddots  & \\vdots \\\\ \n",
    "a_2 & a_1 & \\ddots  & \\ddots  & \\vdots \\\\ \n",
    "\\vdots  & \\ddots  & \\ddots  & a_0  & a_{-1} \\\\ \n",
    "a_{n-1} & \\cdots  & a_2 & a_1 & a_0\n",
    "\\end{bmatrix}$$</p>\n",
    "\n",
    "其通式可以寫成：\n",
    "\n",
    "$$\\mathbf{A}=A_{i,j}=A_{i+1,j+1}=a_{i-j}$$\n",
    "\n",
    "## 範例\n",
    "Scipy中有實作創造Toeplitz matrix："
   ]
  },
  {
   "cell_type": "code",
   "execution_count": 1,
   "metadata": {},
   "outputs": [
    {
     "data": {
      "text/plain": [
       "array([[1, 2, 3],\n",
       "       [2, 1, 2],\n",
       "       [3, 2, 1]])"
      ]
     },
     "execution_count": 1,
     "metadata": {},
     "output_type": "execute_result"
    }
   ],
   "source": [
    "from scipy.linalg import toeplitz\n",
    "c = [1,2,3] # c為指定矩陣的第一行\n",
    "toeplitz(c)"
   ]
  },
  {
   "cell_type": "code",
   "execution_count": 2,
   "metadata": {},
   "outputs": [
    {
     "data": {
      "text/plain": [
       "array([[1, 4, 5, 6],\n",
       "       [2, 1, 4, 5],\n",
       "       [3, 2, 1, 4]])"
      ]
     },
     "execution_count": 2,
     "metadata": {},
     "output_type": "execute_result"
    }
   ],
   "source": [
    "r = [1,4,5,6] # r為指定矩陣的第一列\n",
    "toeplitz(c, r)"
   ]
  },
  {
   "cell_type": "markdown",
   "metadata": {},
   "source": [
    "可執行範例在我的[Jupyter Notebook](https://notebooks.azure.com/ya-ti/libraries/mylibrary)"
   ]
  },
  {
   "cell_type": "markdown",
   "metadata": {},
   "source": [
    "## Convolution\n",
    "convolution運算中的輸入，可以轉換成toeplitz matrix，使運算可以寫成矩陣乘法。$h$與$x$的convolution可以表示成：\n",
    "\n",
    "<p>$$y=h\\ast x=\\begin{bmatrix}\n",
    "h_1 & 0 & \\cdots & 0 & 0\\\\ \n",
    "h_2 & h_1 & \\ddots & \\vdots & \\vdots \\\\ \n",
    "h_3 & h_2 & \\ddots  & \\vdots  & \\vdots \\\\ \n",
    "\\vdots  & h_3 & \\ddots  & h_1  & \\vdots \\\\ \n",
    "h_m & \\vdots  & \\ddots  & h_2 & h_1\\\\ \n",
    "0 & h_m & \\ddots & h_3 & h_2\\\\ \n",
    "0 & 0 & h_m & \\vdots  & h_3\\\\ \n",
    "\\vdots  & \\vdots & \\vdots & h_m & \\vdots \\\\ \n",
    "0 & 0 & \\cdots & 0 & h_m\n",
    "\\end{bmatrix} \\begin{bmatrix}\n",
    "x_1\\\\ \n",
    "x_2\\\\ \n",
    "x_3\\\\ \n",
    "\\vdots \\\\ \n",
    "x_n\n",
    "\\end{bmatrix}$$</p>"
   ]
  },
  {
   "cell_type": "markdown",
   "metadata": {},
   "source": [
    "## 參考\n",
    "[Scipy](https://docs.scipy.org/doc/scipy/reference/generated/scipy.linalg.toeplitz.html)\n",
    "\n",
    "[維基百科](https://en.wikipedia.org/wiki/Toeplitz_matrix)"
   ]
  }
 ],
 "metadata": {
  "kernelspec": {
   "display_name": "Python 3.6",
   "language": "python",
   "name": "python36"
  },
  "language_info": {
   "codemirror_mode": {
    "name": "ipython",
    "version": 3
   },
   "file_extension": ".py",
   "mimetype": "text/x-python",
   "name": "python",
   "nbconvert_exporter": "python",
   "pygments_lexer": "ipython3",
   "version": "3.6.3"
  }
 },
 "nbformat": 4,
 "nbformat_minor": 2
}
